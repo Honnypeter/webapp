{
 "cells": [
  {
   "cell_type": "markdown",
   "id": "5d7fc589",
   "metadata": {},
   "source": [
    "# Introduction\n",
    "\n",
    "The proposed project, titled \"Lagos state house pricing model\", seeks to address a pressing issue within the Lagos real estate market. This project is pivotal as it aims to provide an AI-driven solution for precisely predicting building prices. By doing so, it empowers buyers, sellers, and real estate professionals with data-driven insights to make informed decisions.\n",
    "\n",
    "The primary challenge at hand is the unpredictable nature of building prices in Lagos, Nigeria. The real estate market is subject to various factors, making it arduous for stakeholders to accurately estimate property values. As Ayodele and Olaleye (2022) emphasized, this complexity makes precise predictions a formidable task.\n",
    "\n",
    "Source\n",
    "https://www.kaggle.com/datasets/abdullahiyunus/nigeria-houses-and-prices-dataset"
   ]
  },
  {
   "cell_type": "markdown",
   "id": "707974d3",
   "metadata": {},
   "source": [
    "# Imports"
   ]
  },
  {
   "cell_type": "code",
   "execution_count": null,
   "id": "48154912",
   "metadata": {},
   "outputs": [],
   "source": [
    "import pandas as pd\n",
    "import numpy as np\n",
    "from sklearn.model_selection import train_test_split\n",
    "import matplotlib.pyplot as plt\n",
    "import seaborn as sns\n",
    "\n",
    "from keras.models import Sequential\n",
    "from keras.layers import Dense, Activation\n",
    "from keras.optimizers import Adam\n",
    "from keras.losses import MeanAbsoluteError\n",
    "from keras.callbacks import EarlyStopping\n",
    "from sklearn.metrics import r2_score\n",
    "\n",
    "from sklearn.ensemble import RandomForestRegressor\n",
    "from sklearn.compose import ColumnTransformer\n",
    "from sklearn.pipeline import Pipeline\n",
    "from sklearn.impute import SimpleImputer\n",
    "from sklearn.preprocessing import StandardScaler, OneHotEncoder\n",
    "from sklearn.metrics import mean_squared_error\n",
    "\n",
    "%matplotlib inline"
   ]
  },
  {
   "cell_type": "code",
   "execution_count": null,
   "id": "2b869239",
   "metadata": {},
   "outputs": [],
   "source": [
    "data = pd.read_csv('nigeria_houses_data.csv')"
   ]
  },
  {
   "cell_type": "markdown",
   "id": "551b4f39",
   "metadata": {},
   "source": [
    "# Data Cleaning and Preprocessing"
   ]
  },
  {
   "cell_type": "code",
   "execution_count": null,
   "id": "310a4c0e",
   "metadata": {},
   "outputs": [],
   "source": [
    "#Displaying summary statistics of the dataset\n",
    "data.describe()\n",
    "data.info()"
   ]
  },
  {
   "cell_type": "code",
   "execution_count": null,
   "id": "2fa01f7d",
   "metadata": {},
   "outputs": [],
   "source": [
    "# Checking for missing values in the dataset using isnull() and sum()\n",
    "\n",
    "data.isnull().sum()"
   ]
  },
  {
   "cell_type": "code",
   "execution_count": null,
   "id": "aab425dd",
   "metadata": {},
   "outputs": [],
   "source": [
    "\n",
    "data.head()"
   ]
  },
  {
   "cell_type": "code",
   "execution_count": null,
   "id": "6ec4ba69",
   "metadata": {},
   "outputs": [],
   "source": [
    "# Converting specific columns to the 'int64' data type\n",
    "\n",
    "data[['bedrooms', 'bathrooms', 'toilets', 'parking_space', 'price']] = data[['bedrooms', 'bathrooms', 'toilets', \n",
    "                                                                             'parking_space', 'price']].astype('int64')"
   ]
  },
  {
   "cell_type": "code",
   "execution_count": null,
   "id": "d457e9b3",
   "metadata": {},
   "outputs": [],
   "source": [
    "data.head()"
   ]
  },
  {
   "cell_type": "code",
   "execution_count": null,
   "id": "8231838b",
   "metadata": {},
   "outputs": [],
   "source": [
    "# Retrieve the unique values in the 'title' column of the DataFrame\n",
    "\n",
    "data.title.unique()"
   ]
  },
  {
   "cell_type": "code",
   "execution_count": null,
   "id": "5f55e141",
   "metadata": {},
   "outputs": [],
   "source": [
    "# Retrieve the unique values in the 'title' column of the DataFrame\n",
    "\n",
    "data.town.unique().size"
   ]
  },
  {
   "cell_type": "code",
   "execution_count": null,
   "id": "3f0aaddc",
   "metadata": {},
   "outputs": [],
   "source": [
    "data.shape"
   ]
  },
  {
   "cell_type": "code",
   "execution_count": null,
   "id": "f4f764c6",
   "metadata": {},
   "outputs": [],
   "source": [
    "#Extracting Lagos dataset\n",
    "df = data[(data['state'] =='Lagos')]\n",
    "\n",
    "#creating a list of the categorical features\n",
    "cat_cols = [col for col in df.columns if df[col].dtype == 'object']"
   ]
  },
  {
   "cell_type": "code",
   "execution_count": null,
   "id": "c5c6b02d",
   "metadata": {},
   "outputs": [],
   "source": [
    "cat_cols"
   ]
  },
  {
   "cell_type": "code",
   "execution_count": null,
   "id": "3f4181d8",
   "metadata": {},
   "outputs": [],
   "source": [
    "#use onehotencoding to preprocess and encode the cat features\n",
    "title_dm= pd.get_dummies(df['title'])\n",
    "town_dm =pd.get_dummies(df['town'])\n",
    "features_dm = df.drop(['title', 'town', 'state'], axis=1)\n",
    "\n",
    "df_1 = pd.concat([features_dm, title_dm, town_dm], axis=1)"
   ]
  },
  {
   "cell_type": "code",
   "execution_count": null,
   "id": "548f3018",
   "metadata": {},
   "outputs": [],
   "source": [
    "df_1['ID'] = range(1, len(df_1) + 1)\n",
    "\n",
    "# Set the 'ID' column as the index\n",
    "df_1.set_index('ID', inplace=True)\n",
    "\n",
    "df_1.head()"
   ]
  },
  {
   "cell_type": "code",
   "execution_count": null,
   "id": "5ffc369a",
   "metadata": {},
   "outputs": [],
   "source": [
    "df_1.shape"
   ]
  },
  {
   "cell_type": "code",
   "execution_count": null,
   "id": "a7489bd1",
   "metadata": {},
   "outputs": [],
   "source": [
    "#Defining the features and target variables\n",
    "\n",
    "target = df_1.price\n",
    "features = df_1.drop('price', axis=1)\n",
    "features.shape"
   ]
  },
  {
   "cell_type": "code",
   "execution_count": null,
   "id": "f3290e07",
   "metadata": {},
   "outputs": [],
   "source": [
    "# Splittng the dataset into training and testing sets\n",
    "\n",
    "X_train, X_test, y_train, y_test = train_test_split(features, target, test_size=0.2, random_state=0)"
   ]
  },
  {
   "cell_type": "code",
   "execution_count": null,
   "id": "c1acb3d0",
   "metadata": {},
   "outputs": [],
   "source": [
    "#creating the validation sets\n",
    "\n",
    "X_val = X_train.sample(frac=0.2, random_state=0)\n",
    "y_val = y_train.sample(frac=0.2, random_state=0)"
   ]
  },
  {
   "cell_type": "code",
   "execution_count": null,
   "id": "47fb09d4",
   "metadata": {},
   "outputs": [],
   "source": [
    "\n",
    "# Create a StandardScaler for the input features (X)\n",
    "scaler_X = StandardScaler()\n",
    "\n",
    "# Fit and transform the training set\n",
    "X_train_scaled = scaler_X.fit_transform(X_train)\n",
    "\n",
    "# Transform the testing and validation sets using the same scaler\n",
    "X_val_scaled = scaler_X.transform(X_val)\n",
    "\n",
    "# Creating a StandardScaler for the target variable\n",
    "scaler_y = StandardScaler()\n",
    "# Fit and transform the training set target variable\n",
    "y_train_scaled = scaler_y.fit_transform(y_train.values.reshape(-1, 1)).ravel()\n",
    "\n",
    "# Transform the testing and validation sets target variable using the same scaler\n",
    "y_val_scaled = scaler_y.transform(y_val.values.reshape(-1, 1)).ravel()\n",
    "y_test_scaled = scaler_y.transform(y_test.values.reshape(-1, 1)).ravel()"
   ]
  },
  {
   "cell_type": "markdown",
   "id": "f090db13",
   "metadata": {},
   "source": [
    "# Visualization"
   ]
  },
  {
   "cell_type": "code",
   "execution_count": null,
   "id": "99ca3a9b",
   "metadata": {},
   "outputs": [],
   "source": [
    "# Sorting the data by 'price' in descending order and select the top 10\n",
    "data_sorted = data.sort_values(by='price', ascending=False).head(10)\n",
    "\n",
    "# Extracting 'town' and 'price' columns\n",
    "town= data_sorted['town']\n",
    "price = data_sorted['price']\n",
    "\n",
    "# Creating a horizontal bar chart showing the most expensive houses in lagos and their locations\n",
    "plt.barh(town, price)\n",
    "plt.xlabel('Price')\n",
    "plt.ylabel('Town')\n",
    "plt.title('Most Expensive Houses in Lagos')\n",
    "plt.gca().invert_yaxis()\n",
    "plt.show()"
   ]
  },
  {
   "cell_type": "code",
   "execution_count": null,
   "id": "f778c8ba",
   "metadata": {},
   "outputs": [],
   "source": [
    "# Setting Seaborn style to whitegrid\n",
    "sns.set(style='whitegrid')\n",
    "\n",
    "# Creating a scatter plot using Seaborn\n",
    "plt.figure(figsize=(18, 8))\n",
    "sns.scatterplot(x= 'title', y ='price', hue='bedrooms', data =data, palette='inferno', s=100)\n",
    "plt.title('The relationship between type of house, Nr. of bedrooms and the price')\n",
    "plt.show()"
   ]
  },
  {
   "cell_type": "code",
   "execution_count": null,
   "id": "f071a964",
   "metadata": {},
   "outputs": [],
   "source": [
    "sns.set(style='whitegrid')\n",
    "plt.figure(figsize=(18, 8))\n",
    "plt.subplot(1, 2, 1)\n",
    "sns.scatterplot(x= 'bedrooms', y ='price', data =data, palette='inferno', s=100)\n",
    "plt.title('The relationship between Nr. of bedrooms and the price')\n",
    "\n",
    "plt.subplot(1, 2, 2)\n",
    "sns.scatterplot(x= 'bathrooms', y ='price', data =data, palette='inferno', s=100)\n",
    "plt.title('The relationship between Nr. of bathrooms and the price')\n",
    "plt.show()"
   ]
  },
  {
   "cell_type": "code",
   "execution_count": null,
   "id": "25baf836",
   "metadata": {},
   "outputs": [],
   "source": [
    "sns.set(style='whitegrid')\n",
    "plt.figure(figsize=(18, 8))\n",
    "plt.subplot(1, 2, 1)\n",
    "sns.scatterplot(x= 'toilets', y ='price', data =data, palette='inferno', s=100)\n",
    "plt.title('The relationship between Nr. of toilets and the price')\n",
    "\n",
    "plt.subplot(1, 2, 2)\n",
    "sns.scatterplot(x= 'parking_space', y ='price', data =data, palette='inferno', s=100)\n",
    "plt.title('The relationship between Nr. of parking spaces and the price')\n",
    "plt.show()"
   ]
  },
  {
   "cell_type": "markdown",
   "id": "cea783f4",
   "metadata": {},
   "source": [
    "# Summary of the Visualization\n",
    "\n",
    "Looking at the plots, it appears that in Lagos state, the location of a house is the primary variable that influences its price. Number of bedrooms, bathrooms, toilets and parking spaces are only intervening variables."
   ]
  },
  {
   "cell_type": "markdown",
   "id": "3c7cfe11",
   "metadata": {},
   "source": [
    "# Training Model 1"
   ]
  },
  {
   "cell_type": "code",
   "execution_count": null,
   "id": "35271fa7",
   "metadata": {},
   "outputs": [],
   "source": [
    "#Defining the model\n",
    "model = Sequential([\n",
    "    Dense(units= 128, input_shape= (X_train_scaled.shape[1],), activation='relu'),\n",
    "    Dense(units=64, activation='relu'),\n",
    "    Dense(units=16, activation='relu'),\n",
    "    Dense(1, activation='linear')\n",
    "])"
   ]
  },
  {
   "cell_type": "code",
   "execution_count": null,
   "id": "21f6536c",
   "metadata": {},
   "outputs": [],
   "source": [
    "#Compiling the model\n",
    "optimizer= Adam(learning_rate= 0.001)\n",
    "model.compile(optimizer=optimizer, loss=MeanAbsoluteError())"
   ]
  },
  {
   "cell_type": "code",
   "execution_count": null,
   "id": "7ebca23e",
   "metadata": {},
   "outputs": [],
   "source": [
    "#fitting/training the model\n",
    "model_history = model.fit(X_train_scaled, y_train_scaled, batch_size=56, epochs=500, \n",
    "                          verbose=0, validation_data=(X_val_scaled, y_val_scaled))"
   ]
  },
  {
   "cell_type": "code",
   "execution_count": null,
   "id": "86febd3b",
   "metadata": {},
   "outputs": [],
   "source": [
    "#Visualizing the training and validation losses\n",
    "\n",
    "model_history_df = pd.DataFrame(model_history.history)\n",
    "\n",
    "\n",
    "plt.figure(figsize=(12, 6))\n",
    "\n",
    "# Plot training & validation loss values\n",
    "\n",
    "plt.plot(model_history_df['loss'], label='Train')\n",
    "plt.plot(model_history_df['val_loss'], label='Validation')\n",
    "plt.title('Model loss')\n",
    "plt.xlabel('Epoch')\n",
    "plt.ylabel('Loss')\n",
    "plt.legend()\n",
    "\n",
    "plt.tight_layout()\n",
    "plt.show()"
   ]
  },
  {
   "cell_type": "code",
   "execution_count": null,
   "id": "6bc5a0d1",
   "metadata": {},
   "outputs": [],
   "source": [
    "#making predictions with the model\n",
    "def make_pred(input):\n",
    "    input_scaled = scaler_X.transform(input)\n",
    "    y_pred = model.predict(input_scaled)\n",
    "    y_pred_unscaled = scaler_y.inverse_transform(y_pred).flatten()\n",
    "    return y_pred_unscaled.astype('int64')"
   ]
  },
  {
   "cell_type": "code",
   "execution_count": null,
   "id": "33480035",
   "metadata": {},
   "outputs": [],
   "source": [
    "y_preds = make_pred(X_test)"
   ]
  },
  {
   "cell_type": "code",
   "execution_count": 75,
   "id": "6e105ed8",
   "metadata": {},
   "outputs": [],
   "source": [
    "y_test_array = np.array(y_test)"
   ]
  },
  {
   "cell_type": "markdown",
   "id": "61ac0fdc",
   "metadata": {},
   "source": [
    "# Model Evaluation"
   ]
  },
  {
   "cell_type": "code",
   "execution_count": 76,
   "id": "edae6e62",
   "metadata": {},
   "outputs": [
    {
     "data": {
      "text/plain": [
       "0.999977650797093"
      ]
     },
     "execution_count": 76,
     "metadata": {},
     "output_type": "execute_result"
    }
   ],
   "source": [
    "#calculating the coefficient of determination using r2_score\n",
    "eval_r2 = r2_score(y_test_array, y_preds)\n",
    "eval_r2"
   ]
  },
  {
   "cell_type": "markdown",
   "id": "b4559407",
   "metadata": {},
   "source": [
    "# Training Model 2"
   ]
  },
  {
   "cell_type": "code",
   "execution_count": 77,
   "id": "6840a936",
   "metadata": {},
   "outputs": [],
   "source": [
    "#creating the features and target variables\n",
    "X = df.drop(['price', 'state'], axis = 1)\n",
    "y = df['price']"
   ]
  },
  {
   "cell_type": "code",
   "execution_count": 78,
   "id": "452eb4d5",
   "metadata": {},
   "outputs": [],
   "source": [
    "#creating the training and testing sets\n",
    "\n",
    "X_train_2, X_test_all, y_train_2, y_test_all = train_test_split(X, y, test_size=0.2, random_state=42)\n",
    "\n",
    "#Creating the validation sets\n",
    "\n",
    "X_test_2, X_val_2, y_test_2, y_val_2 = train_test_split(X_test_all, y_test_all, test_size=0.5, random_state=42)"
   ]
  },
  {
   "cell_type": "code",
   "execution_count": 79,
   "id": "df60bba0",
   "metadata": {},
   "outputs": [
    {
     "data": {
      "text/plain": [
       "bedrooms          int64\n",
       "bathrooms         int64\n",
       "toilets           int64\n",
       "parking_space     int64\n",
       "title            object\n",
       "town             object\n",
       "dtype: object"
      ]
     },
     "execution_count": 79,
     "metadata": {},
     "output_type": "execute_result"
    }
   ],
   "source": [
    "\n",
    "X.dtypes"
   ]
  },
  {
   "cell_type": "code",
   "execution_count": 80,
   "id": "4621516e",
   "metadata": {},
   "outputs": [],
   "source": [
    "#creating the nunerical and categorical features\n",
    "\n",
    "num_features = X.select_dtypes(include=['int64']).columns\n",
    "cat_features = X.select_dtypes(include=['object']).columns"
   ]
  },
  {
   "cell_type": "code",
   "execution_count": 81,
   "id": "b90cf6d1",
   "metadata": {},
   "outputs": [],
   "source": [
    "#Defining the preprocessing steps\n",
    "\n",
    "numerical_transformer = StandardScaler(with_mean=False)\n",
    "\n",
    "cat_transformer = Pipeline(steps=[\n",
    "    ('onehot', OneHotEncoder(handle_unknown='ignore')),\n",
    "    ('scaler', StandardScaler(with_mean=False))\n",
    "])"
   ]
  },
  {
   "cell_type": "code",
   "execution_count": 82,
   "id": "e32c20d0",
   "metadata": {},
   "outputs": [],
   "source": [
    "#Creating the preprocessor, combining the transformation steps for numerical and cat features\n",
    "\n",
    "preprocessor = ColumnTransformer(transformers=[\n",
    "    ('num', numerical_transformer, num_features),\n",
    "    ('cat', cat_transformer, cat_features)\n",
    "])"
   ]
  },
  {
   "cell_type": "code",
   "execution_count": 91,
   "id": "381b0f2b",
   "metadata": {},
   "outputs": [],
   "source": [
    "#defining the model using a pipepline and randomforest regressor\n",
    "\n",
    "model_2 = Pipeline(steps=[\n",
    "    ('preprocess', preprocessor),\n",
    "    ('model', RandomForestRegressor(\n",
    "        n_estimators=2000,\n",
    "        max_depth=None,\n",
    "        min_samples_split=2,\n",
    "        min_samples_leaf=1,\n",
    "        max_features='auto',\n",
    "        random_state=42))\n",
    "])"
   ]
  },
  {
   "cell_type": "code",
   "execution_count": 92,
   "id": "5fdeadb6",
   "metadata": {},
   "outputs": [
    {
     "name": "stderr",
     "output_type": "stream",
     "text": [
      "C:\\Users\\USER\\AppData\\Local\\Programs\\Python\\Python310\\lib\\site-packages\\sklearn\\ensemble\\_forest.py:413: FutureWarning: `max_features='auto'` has been deprecated in 1.1 and will be removed in 1.3. To keep the past behaviour, explicitly set `max_features=1.0` or remove this parameter as it is also the default value for RandomForestRegressors and ExtraTreesRegressors.\n",
      "  warn(\n"
     ]
    },
    {
     "data": {
      "text/html": [
       "<style>#sk-container-id-3 {color: black;background-color: white;}#sk-container-id-3 pre{padding: 0;}#sk-container-id-3 div.sk-toggleable {background-color: white;}#sk-container-id-3 label.sk-toggleable__label {cursor: pointer;display: block;width: 100%;margin-bottom: 0;padding: 0.3em;box-sizing: border-box;text-align: center;}#sk-container-id-3 label.sk-toggleable__label-arrow:before {content: \"▸\";float: left;margin-right: 0.25em;color: #696969;}#sk-container-id-3 label.sk-toggleable__label-arrow:hover:before {color: black;}#sk-container-id-3 div.sk-estimator:hover label.sk-toggleable__label-arrow:before {color: black;}#sk-container-id-3 div.sk-toggleable__content {max-height: 0;max-width: 0;overflow: hidden;text-align: left;background-color: #f0f8ff;}#sk-container-id-3 div.sk-toggleable__content pre {margin: 0.2em;color: black;border-radius: 0.25em;background-color: #f0f8ff;}#sk-container-id-3 input.sk-toggleable__control:checked~div.sk-toggleable__content {max-height: 200px;max-width: 100%;overflow: auto;}#sk-container-id-3 input.sk-toggleable__control:checked~label.sk-toggleable__label-arrow:before {content: \"▾\";}#sk-container-id-3 div.sk-estimator input.sk-toggleable__control:checked~label.sk-toggleable__label {background-color: #d4ebff;}#sk-container-id-3 div.sk-label input.sk-toggleable__control:checked~label.sk-toggleable__label {background-color: #d4ebff;}#sk-container-id-3 input.sk-hidden--visually {border: 0;clip: rect(1px 1px 1px 1px);clip: rect(1px, 1px, 1px, 1px);height: 1px;margin: -1px;overflow: hidden;padding: 0;position: absolute;width: 1px;}#sk-container-id-3 div.sk-estimator {font-family: monospace;background-color: #f0f8ff;border: 1px dotted black;border-radius: 0.25em;box-sizing: border-box;margin-bottom: 0.5em;}#sk-container-id-3 div.sk-estimator:hover {background-color: #d4ebff;}#sk-container-id-3 div.sk-parallel-item::after {content: \"\";width: 100%;border-bottom: 1px solid gray;flex-grow: 1;}#sk-container-id-3 div.sk-label:hover label.sk-toggleable__label {background-color: #d4ebff;}#sk-container-id-3 div.sk-serial::before {content: \"\";position: absolute;border-left: 1px solid gray;box-sizing: border-box;top: 0;bottom: 0;left: 50%;z-index: 0;}#sk-container-id-3 div.sk-serial {display: flex;flex-direction: column;align-items: center;background-color: white;padding-right: 0.2em;padding-left: 0.2em;position: relative;}#sk-container-id-3 div.sk-item {position: relative;z-index: 1;}#sk-container-id-3 div.sk-parallel {display: flex;align-items: stretch;justify-content: center;background-color: white;position: relative;}#sk-container-id-3 div.sk-item::before, #sk-container-id-3 div.sk-parallel-item::before {content: \"\";position: absolute;border-left: 1px solid gray;box-sizing: border-box;top: 0;bottom: 0;left: 50%;z-index: -1;}#sk-container-id-3 div.sk-parallel-item {display: flex;flex-direction: column;z-index: 1;position: relative;background-color: white;}#sk-container-id-3 div.sk-parallel-item:first-child::after {align-self: flex-end;width: 50%;}#sk-container-id-3 div.sk-parallel-item:last-child::after {align-self: flex-start;width: 50%;}#sk-container-id-3 div.sk-parallel-item:only-child::after {width: 0;}#sk-container-id-3 div.sk-dashed-wrapped {border: 1px dashed gray;margin: 0 0.4em 0.5em 0.4em;box-sizing: border-box;padding-bottom: 0.4em;background-color: white;}#sk-container-id-3 div.sk-label label {font-family: monospace;font-weight: bold;display: inline-block;line-height: 1.2em;}#sk-container-id-3 div.sk-label-container {text-align: center;}#sk-container-id-3 div.sk-container {/* jupyter's `normalize.less` sets `[hidden] { display: none; }` but bootstrap.min.css set `[hidden] { display: none !important; }` so we also need the `!important` here to be able to override the default hidden behavior on the sphinx rendered scikit-learn.org. See: https://github.com/scikit-learn/scikit-learn/issues/21755 */display: inline-block !important;position: relative;}#sk-container-id-3 div.sk-text-repr-fallback {display: none;}</style><div id=\"sk-container-id-3\" class=\"sk-top-container\"><div class=\"sk-text-repr-fallback\"><pre>Pipeline(steps=[(&#x27;preprocess&#x27;,\n",
       "                 ColumnTransformer(transformers=[(&#x27;num&#x27;,\n",
       "                                                  StandardScaler(with_mean=False),\n",
       "                                                  Index([&#x27;bedrooms&#x27;, &#x27;bathrooms&#x27;, &#x27;toilets&#x27;, &#x27;parking_space&#x27;], dtype=&#x27;object&#x27;)),\n",
       "                                                 (&#x27;cat&#x27;,\n",
       "                                                  Pipeline(steps=[(&#x27;onehot&#x27;,\n",
       "                                                                   OneHotEncoder(handle_unknown=&#x27;ignore&#x27;)),\n",
       "                                                                  (&#x27;scaler&#x27;,\n",
       "                                                                   StandardScaler(with_mean=False))]),\n",
       "                                                  Index([&#x27;title&#x27;, &#x27;town&#x27;], dtype=&#x27;object&#x27;))])),\n",
       "                (&#x27;model&#x27;,\n",
       "                 RandomForestRegressor(max_features=&#x27;auto&#x27;, n_estimators=2000,\n",
       "                                       random_state=42))])</pre><b>In a Jupyter environment, please rerun this cell to show the HTML representation or trust the notebook. <br />On GitHub, the HTML representation is unable to render, please try loading this page with nbviewer.org.</b></div><div class=\"sk-container\" hidden><div class=\"sk-item sk-dashed-wrapped\"><div class=\"sk-label-container\"><div class=\"sk-label sk-toggleable\"><input class=\"sk-toggleable__control sk-hidden--visually\" id=\"sk-estimator-id-17\" type=\"checkbox\" ><label for=\"sk-estimator-id-17\" class=\"sk-toggleable__label sk-toggleable__label-arrow\">Pipeline</label><div class=\"sk-toggleable__content\"><pre>Pipeline(steps=[(&#x27;preprocess&#x27;,\n",
       "                 ColumnTransformer(transformers=[(&#x27;num&#x27;,\n",
       "                                                  StandardScaler(with_mean=False),\n",
       "                                                  Index([&#x27;bedrooms&#x27;, &#x27;bathrooms&#x27;, &#x27;toilets&#x27;, &#x27;parking_space&#x27;], dtype=&#x27;object&#x27;)),\n",
       "                                                 (&#x27;cat&#x27;,\n",
       "                                                  Pipeline(steps=[(&#x27;onehot&#x27;,\n",
       "                                                                   OneHotEncoder(handle_unknown=&#x27;ignore&#x27;)),\n",
       "                                                                  (&#x27;scaler&#x27;,\n",
       "                                                                   StandardScaler(with_mean=False))]),\n",
       "                                                  Index([&#x27;title&#x27;, &#x27;town&#x27;], dtype=&#x27;object&#x27;))])),\n",
       "                (&#x27;model&#x27;,\n",
       "                 RandomForestRegressor(max_features=&#x27;auto&#x27;, n_estimators=2000,\n",
       "                                       random_state=42))])</pre></div></div></div><div class=\"sk-serial\"><div class=\"sk-item sk-dashed-wrapped\"><div class=\"sk-label-container\"><div class=\"sk-label sk-toggleable\"><input class=\"sk-toggleable__control sk-hidden--visually\" id=\"sk-estimator-id-18\" type=\"checkbox\" ><label for=\"sk-estimator-id-18\" class=\"sk-toggleable__label sk-toggleable__label-arrow\">preprocess: ColumnTransformer</label><div class=\"sk-toggleable__content\"><pre>ColumnTransformer(transformers=[(&#x27;num&#x27;, StandardScaler(with_mean=False),\n",
       "                                 Index([&#x27;bedrooms&#x27;, &#x27;bathrooms&#x27;, &#x27;toilets&#x27;, &#x27;parking_space&#x27;], dtype=&#x27;object&#x27;)),\n",
       "                                (&#x27;cat&#x27;,\n",
       "                                 Pipeline(steps=[(&#x27;onehot&#x27;,\n",
       "                                                  OneHotEncoder(handle_unknown=&#x27;ignore&#x27;)),\n",
       "                                                 (&#x27;scaler&#x27;,\n",
       "                                                  StandardScaler(with_mean=False))]),\n",
       "                                 Index([&#x27;title&#x27;, &#x27;town&#x27;], dtype=&#x27;object&#x27;))])</pre></div></div></div><div class=\"sk-parallel\"><div class=\"sk-parallel-item\"><div class=\"sk-item\"><div class=\"sk-label-container\"><div class=\"sk-label sk-toggleable\"><input class=\"sk-toggleable__control sk-hidden--visually\" id=\"sk-estimator-id-19\" type=\"checkbox\" ><label for=\"sk-estimator-id-19\" class=\"sk-toggleable__label sk-toggleable__label-arrow\">num</label><div class=\"sk-toggleable__content\"><pre>Index([&#x27;bedrooms&#x27;, &#x27;bathrooms&#x27;, &#x27;toilets&#x27;, &#x27;parking_space&#x27;], dtype=&#x27;object&#x27;)</pre></div></div></div><div class=\"sk-serial\"><div class=\"sk-item\"><div class=\"sk-estimator sk-toggleable\"><input class=\"sk-toggleable__control sk-hidden--visually\" id=\"sk-estimator-id-20\" type=\"checkbox\" ><label for=\"sk-estimator-id-20\" class=\"sk-toggleable__label sk-toggleable__label-arrow\">StandardScaler</label><div class=\"sk-toggleable__content\"><pre>StandardScaler(with_mean=False)</pre></div></div></div></div></div></div><div class=\"sk-parallel-item\"><div class=\"sk-item\"><div class=\"sk-label-container\"><div class=\"sk-label sk-toggleable\"><input class=\"sk-toggleable__control sk-hidden--visually\" id=\"sk-estimator-id-21\" type=\"checkbox\" ><label for=\"sk-estimator-id-21\" class=\"sk-toggleable__label sk-toggleable__label-arrow\">cat</label><div class=\"sk-toggleable__content\"><pre>Index([&#x27;title&#x27;, &#x27;town&#x27;], dtype=&#x27;object&#x27;)</pre></div></div></div><div class=\"sk-serial\"><div class=\"sk-item\"><div class=\"sk-serial\"><div class=\"sk-item\"><div class=\"sk-estimator sk-toggleable\"><input class=\"sk-toggleable__control sk-hidden--visually\" id=\"sk-estimator-id-22\" type=\"checkbox\" ><label for=\"sk-estimator-id-22\" class=\"sk-toggleable__label sk-toggleable__label-arrow\">OneHotEncoder</label><div class=\"sk-toggleable__content\"><pre>OneHotEncoder(handle_unknown=&#x27;ignore&#x27;)</pre></div></div></div><div class=\"sk-item\"><div class=\"sk-estimator sk-toggleable\"><input class=\"sk-toggleable__control sk-hidden--visually\" id=\"sk-estimator-id-23\" type=\"checkbox\" ><label for=\"sk-estimator-id-23\" class=\"sk-toggleable__label sk-toggleable__label-arrow\">StandardScaler</label><div class=\"sk-toggleable__content\"><pre>StandardScaler(with_mean=False)</pre></div></div></div></div></div></div></div></div></div></div><div class=\"sk-item\"><div class=\"sk-estimator sk-toggleable\"><input class=\"sk-toggleable__control sk-hidden--visually\" id=\"sk-estimator-id-24\" type=\"checkbox\" ><label for=\"sk-estimator-id-24\" class=\"sk-toggleable__label sk-toggleable__label-arrow\">RandomForestRegressor</label><div class=\"sk-toggleable__content\"><pre>RandomForestRegressor(max_features=&#x27;auto&#x27;, n_estimators=2000, random_state=42)</pre></div></div></div></div></div></div></div>"
      ],
      "text/plain": [
       "Pipeline(steps=[('preprocess',\n",
       "                 ColumnTransformer(transformers=[('num',\n",
       "                                                  StandardScaler(with_mean=False),\n",
       "                                                  Index(['bedrooms', 'bathrooms', 'toilets', 'parking_space'], dtype='object')),\n",
       "                                                 ('cat',\n",
       "                                                  Pipeline(steps=[('onehot',\n",
       "                                                                   OneHotEncoder(handle_unknown='ignore')),\n",
       "                                                                  ('scaler',\n",
       "                                                                   StandardScaler(with_mean=False))]),\n",
       "                                                  Index(['title', 'town'], dtype='object'))])),\n",
       "                ('model',\n",
       "                 RandomForestRegressor(max_features='auto', n_estimators=2000,\n",
       "                                       random_state=42))])"
      ]
     },
     "execution_count": 92,
     "metadata": {},
     "output_type": "execute_result"
    }
   ],
   "source": [
    "#fitting the model\n",
    "\n",
    "model_2.fit(X_train_2, y_train_2)"
   ]
  },
  {
   "cell_type": "code",
   "execution_count": 85,
   "id": "cc1563a8",
   "metadata": {},
   "outputs": [],
   "source": [
    "#scaling the target feature\n",
    "scale_y_val = StandardScaler(with_mean=False)\n",
    "y_val_scl = scale_y_val.fit_transform(y_val_2.values.reshape(-1, 1)).ravel()"
   ]
  },
  {
   "cell_type": "code",
   "execution_count": 93,
   "id": "9da9a251",
   "metadata": {},
   "outputs": [
    {
     "data": {
      "text/plain": [
       "array([[5.62920486e+16],\n",
       "       [9.25024408e+16],\n",
       "       [1.24207477e+17],\n",
       "       [9.52498708e+16],\n",
       "       [1.86493128e+16]])"
      ]
     },
     "execution_count": 93,
     "metadata": {},
     "output_type": "execute_result"
    }
   ],
   "source": [
    "def predict_prices(inputs):\n",
    "    result = model_2.predict(inputs)\n",
    "    return scale_y_val.inverse_transform(result.reshape(-1, 1))\n",
    "\n",
    "#making predictions\n",
    "model_2_preds = predict_prices(X_val_2)\n",
    "model_2_preds[:5]"
   ]
  },
  {
   "cell_type": "code",
   "execution_count": 87,
   "id": "7ec245f7",
   "metadata": {},
   "outputs": [
    {
     "data": {
      "text/plain": [
       "13835     68000000\n",
       "19855    200000000\n",
       "14738    100000000\n",
       "17413    130000000\n",
       "204       33000000\n",
       "Name: price, dtype: int64"
      ]
     },
     "execution_count": 87,
     "metadata": {},
     "output_type": "execute_result"
    }
   ],
   "source": [
    "y_val_2[:5]"
   ]
  },
  {
   "cell_type": "code",
   "execution_count": null,
   "id": "ea13efee",
   "metadata": {},
   "outputs": [],
   "source": []
  },
  {
   "cell_type": "markdown",
   "id": "39183bee",
   "metadata": {},
   "source": [
    "# Evaluating Model 2"
   ]
  },
  {
   "cell_type": "code",
   "execution_count": 94,
   "id": "8caf4001",
   "metadata": {},
   "outputs": [],
   "source": [
    "#calculating the mean squared error\n",
    "y_val_2_array = np.array(y_val_2)\n",
    "\n",
    "mse_val =mean_squared_error(y_val_2_array, model_2_preds)"
   ]
  },
  {
   "cell_type": "code",
   "execution_count": 95,
   "id": "bf9c57da",
   "metadata": {},
   "outputs": [
    {
     "data": {
      "text/plain": [
       "3.158736026645274e+37"
      ]
     },
     "execution_count": 95,
     "metadata": {},
     "output_type": "execute_result"
    }
   ],
   "source": [
    "mse_val"
   ]
  },
  {
   "cell_type": "code",
   "execution_count": 96,
   "id": "6ccede65",
   "metadata": {},
   "outputs": [
    {
     "data": {
      "text/plain": [
       "-1.079400587262781e+20"
      ]
     },
     "execution_count": 96,
     "metadata": {},
     "output_type": "execute_result"
    }
   ],
   "source": [
    "eval_2 = r2_score(y_val_2_array, model_2_preds)\n",
    "eval_2"
   ]
  },
  {
   "cell_type": "markdown",
   "id": "5287fd6f",
   "metadata": {},
   "source": [
    "# Conclusion\n",
    "\n",
    "The r2 of bothe models (model_1 = 0.99, model_2=1.079e+20) shows that model_1 performed better on the dataset and it's the model we'll deploy"
   ]
  },
  {
   "cell_type": "code",
   "execution_count": null,
   "id": "aabbc159",
   "metadata": {},
   "outputs": [],
   "source": []
  }
 ],
 "metadata": {
  "kernelspec": {
   "display_name": "Python 3 (ipykernel)",
   "language": "python",
   "name": "python3"
  },
  "language_info": {
   "codemirror_mode": {
    "name": "ipython",
    "version": 3
   },
   "file_extension": ".py",
   "mimetype": "text/x-python",
   "name": "python",
   "nbconvert_exporter": "python",
   "pygments_lexer": "ipython3",
   "version": "3.11.5"
  }
 },
 "nbformat": 4,
 "nbformat_minor": 5
}
